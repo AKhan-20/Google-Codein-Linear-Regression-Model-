{
 "cells": [
  {
   "cell_type": "code",
   "execution_count": 1,
   "metadata": {},
   "outputs": [],
   "source": [
    "import numpy as np\n",
    "import tensorflow as tf\n",
    "import matplotlib.pyplot as plt\n",
    "import pandas as pd\n",
    "\n",
    "np.random.seed(101)\n",
    "tf.random.set_seed(101)"
   ]
  },
  {
   "cell_type": "code",
   "execution_count": 2,
   "metadata": {},
   "outputs": [],
   "source": [
    "def generate_dataset():\n",
    "    x_train = np.linspace(0, 15, 100)\n",
    "    y_train = np.random.randint(0, 5) * x_train + \\\n",
    "        np.random.randn(*x_train.shape) + 0.5\n",
    "    return x_train, y_train"
   ]
  },
  {
   "cell_type": "code",
   "execution_count": 3,
   "metadata": {},
   "outputs": [],
   "source": [
    "def get_dataset():\n",
    "    dataframe = np.genfromtxt('Salary_Data.csv', delimiter=',', names=True)\n",
    "\n",
    "    x_train = dataframe['YearsExperience']\n",
    "    y_train = dataframe['Salary']\n",
    "\n",
    "    return x_train, y_train"
   ]
  },
  {
   "cell_type": "code",
   "execution_count": 4,
   "metadata": {},
   "outputs": [],
   "source": [
    "def run_random():\n",
    "    x_train, y_train = generate_dataset()\n",
    "\n",
    "    random_model = tf.keras.Sequential(\n",
    "        [tf.keras.layers.Dense(1, input_shape=[1])])\n",
    "\n",
    "    optimizer = tf.keras.optimizers.Adam(0.001)\n",
    "\n",
    "    random_model.compile(loss='mse', optimizer=optimizer)\n",
    "    random_model.fit(x_train, y_train, epochs=1000, verbose=0)\n",
    "\n",
    "    Y_preds = random_model.predict(x_train)\n",
    "\n",
    "    print(random_model.get_weights())\n",
    "\n",
    "    plt.scatter(x_train, y_train)\n",
    "    plt.plot(x_train, Y_preds, color='red')\n",
    "    plt.show()"
   ]
  },
  {
   "cell_type": "code",
   "execution_count": 5,
   "metadata": {},
   "outputs": [],
   "source": [
    "def run():\n",
    "    x_train, y_train = get_dataset()\n",
    "\n",
    "    model = tf.keras.Sequential([tf.keras.layers.Dense(1, input_shape=[1])])\n",
    "\n",
    "    optimizer = tf.keras.optimizers.Adam(0.5)\n",
    "\n",
    "    model.compile(loss='mse', optimizer=optimizer)\n",
    "    model.fit(x_train, y_train, epochs=50000, verbose=0)\n",
    "\n",
    "    Y_preds = model.predict(x_train)\n",
    "\n",
    "    print(model.get_weights())\n",
    "    print('The salary for 6.5 years of experience is: {}'.format(model.predict([6.5])[0][0]))\n",
    "\n",
    "    plt.scatter(x_train, y_train)\n",
    "    plt.plot(x_train, Y_preds, color='red')\n",
    "    plt.show()"
   ]
  },
  {
   "cell_type": "code",
   "execution_count": 6,
   "metadata": {},
   "outputs": [
    {
     "name": "stdout",
     "output_type": "stream",
     "text": [
      "[array([[2.5349636]], dtype=float32), array([2.5868437], dtype=float32)]\n"
     ]
    },
    {
     "data": {
      "image/png": "[encoded data removed]",
      "text/plain": [
       "<matplotlib.figure.Figure at 0x134b0b198>"
      ]
     },
     "metadata": {},
     "output_type": "display_data"
    }
   ],
   "source": [
    "run_random()"
   ]
  },
  {
   "cell_type": "code",
   "execution_count": 7,
   "metadata": {},
   "outputs": [
    {
     "name": "stdout",
     "output_type": "stream",
     "text": [
      "[array([[9925.821]], dtype=float32), array([22566.559], dtype=float32)]\n",
      "The salary for 6.5 years of experience is: 87084.3984375\n"
     ]
    },
    {
     "data": {
      "image/png": "[encoded data removed]",
      "text/plain": [
       "<matplotlib.figure.Figure at 0x12c6f4320>"
      ]
     },
     "metadata": {},
     "output_type": "display_data"
    }
   ],
   "source": [
    "run()"
   ]
  },
  {
   "cell_type": "code",
   "execution_count": null,
   "metadata": {},
   "outputs": [],
   "source": []
  }
 ],
 "metadata": {
  "kernelspec": {
   "display_name": "Python 3",
   "language": "python",
   "name": "python3"
  },
  "language_info": {
   "codemirror_mode": {
    "name": "ipython",
    "version": 3
   },
   "file_extension": ".py",
   "mimetype": "text/x-python",
   "name": "python",
   "nbconvert_exporter": "python",
   "pygments_lexer": "ipython3",
   "version": "3.6.2"
  }
 },
 "nbformat": 4,
 "nbformat_minor": 2
}
